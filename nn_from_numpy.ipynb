{
  "cells": [
    {
      "cell_type": "markdown",
      "source": [
        "#Neural Network from numpy\n",
        "\n",
        "Vysotsky S. for 1514 school Yandex Lyceum, Yandex Education\n"
      ],
      "metadata": {
        "id": "Q1CPpHnG5_K5"
      },
      "id": "Q1CPpHnG5_K5"
    },
    {
      "cell_type": "code",
      "execution_count": 1,
      "id": "0638b538-e9d5-4e65-8547-4527a1bb1402",
      "metadata": {
        "tags": [],
        "colab": {
          "base_uri": "https://localhost:8080/"
        },
        "id": "0638b538-e9d5-4e65-8547-4527a1bb1402",
        "outputId": "96dc097d-60ee-4485-ae8e-350c8d7899f7"
      },
      "outputs": [
        {
          "output_type": "stream",
          "name": "stdout",
          "text": [
            "Requirement already satisfied: graphviz in /usr/local/lib/python3.10/dist-packages (0.20.3)\n"
          ]
        }
      ],
      "source": [
        "!pip install graphviz"
      ]
    },
    {
      "cell_type": "code",
      "execution_count": 2,
      "id": "81ffb68d-aec6-4ed3-b79f-e102b1565d7a",
      "metadata": {
        "tags": [],
        "id": "81ffb68d-aec6-4ed3-b79f-e102b1565d7a"
      },
      "outputs": [],
      "source": [
        "import math\n",
        "import numpy as np\n",
        "import pandas as pd\n",
        "import matplotlib.pyplot as plt"
      ]
    },
    {
      "cell_type": "code",
      "execution_count": 23,
      "id": "e5a0fa87-82fd-495f-9b71-37756a351071",
      "metadata": {
        "tags": [],
        "id": "e5a0fa87-82fd-495f-9b71-37756a351071"
      },
      "outputs": [],
      "source": [
        "from graphviz import Digraph\n",
        "\n",
        "def trace(root):\n",
        "    # builds a set of all nodes and edges in a graph\n",
        "    nodes, edges = set(), set()\n",
        "    def build(v):\n",
        "        if v not in nodes:\n",
        "            nodes.add(v)\n",
        "            for child in v._prev:\n",
        "                edges.add((child, v))\n",
        "                build(child)\n",
        "    build(root)\n",
        "    return nodes, edges\n",
        "\n",
        "def draw_dot(root):\n",
        "    dot = Digraph(format='svg', graph_attr={'rankdir': 'LR'}) # LR = left to right\n",
        "\n",
        "    nodes, edges = trace(root)\n",
        "    for n in nodes:\n",
        "        uid = str(id(n))\n",
        "        # for any value in the graph, create a rectangular ('record') node for it\n",
        "        dot.node(name = uid, label = \"{ %s | data %.4f | grad %.4f}\" % (n.label, n.data, n.grad), shape='record')\n",
        "        if n._op:\n",
        "            # if this value is a result of some operation, create an op node for it\n",
        "            dot.node(name = uid + n._op, label = n._op)\n",
        "            # and connect this node to it\n",
        "            dot.edge(uid + n._op, uid)\n",
        "\n",
        "    for n1, n2 in edges:\n",
        "        # connect n1 to the op node of n2\n",
        "        dot.edge(str(id(n1)), str(id(n2)) + n2._op)\n",
        "\n",
        "    return dot\n"
      ]
    },
    {
      "cell_type": "code",
      "execution_count": 24,
      "id": "fae13e2d-096b-40cf-a6e7-bd1087f63cb3",
      "metadata": {
        "tags": [],
        "id": "fae13e2d-096b-40cf-a6e7-bd1087f63cb3"
      },
      "outputs": [],
      "source": [
        "# f * (a * b + c)\n",
        "\n",
        "def func(a=2, b=-3, c=10, f=-2):\n",
        "    d = a * b\n",
        "    e = d + c\n",
        "    L = e * f\n",
        "    return L"
      ]
    },
    {
      "cell_type": "code",
      "execution_count": 25,
      "id": "32b7d72e-3fa0-45ab-b152-0d549bc86dc1",
      "metadata": {
        "tags": [],
        "colab": {
          "base_uri": "https://localhost:8080/"
        },
        "id": "32b7d72e-3fa0-45ab-b152-0d549bc86dc1",
        "outputId": "6505c0bc-097d-4d4a-88dc-a734db582662"
      },
      "outputs": [
        {
          "output_type": "execute_result",
          "data": {
            "text/plain": [
              "5.999999999062311"
            ]
          },
          "metadata": {},
          "execution_count": 25
        }
      ],
      "source": [
        "h = 0.0000001\n",
        "\n",
        "(func(2 + h) - func()) / h"
      ]
    },
    {
      "cell_type": "code",
      "execution_count": 26,
      "id": "b1871c65-7661-4fc5-b7bc-5ae147c380a9",
      "metadata": {
        "tags": [],
        "id": "b1871c65-7661-4fc5-b7bc-5ae147c380a9"
      },
      "outputs": [],
      "source": [
        "class Value:\n",
        "    def __init__(self, data, _children=(), _op=\"\", label=\"\"):\n",
        "        self.data = data\n",
        "        self._prev = set(_children)\n",
        "        self._op = _op\n",
        "        self.label = label\n",
        "        # self.label = f'{data=}'.split('=')[0]\n",
        "        self.grad = 0\n",
        "\n",
        "        self.backward = lambda: None\n",
        "\n",
        "\n",
        "    def __repr__(self):\n",
        "        return f\"Value: {self.data}\"\n",
        "\n",
        "\n",
        "    def __mul__(self, other):\n",
        "        other = other if isinstance(other, Value) else Value(other)\n",
        "        out = Value(self.data * other.data, _children=(self, other), _op=\"*\")\n",
        "\n",
        "        def backward():\n",
        "            self.grad += out.grad * other.data\n",
        "            other.grad += out.grad * self.data\n",
        "\n",
        "        out.backward = backward\n",
        "        return out\n",
        "\n",
        "\n",
        "    def __pow__(self, other):\n",
        "        assert isinstance(other, (int, float)), \"only supporting int/float powers for now\"\n",
        "        out = Value(self.data**other, (self,), f'**{other}')\n",
        "\n",
        "        def backward():\n",
        "            self.grad += other * (self.data ** (other - 1)) * out.grad\n",
        "        out.backward = backward\n",
        "\n",
        "        return out\n",
        "\n",
        "\n",
        "    def __radd__(self, other):\n",
        "        return self * other\n",
        "\n",
        "\n",
        "    def __add__(self, other):\n",
        "        other = other if isinstance(other, Value) else Value(other)\n",
        "        out = Value(self.data + other.data, _children=(self, other), _op=\"+\")\n",
        "\n",
        "        def backward():\n",
        "            self.grad += out.grad\n",
        "            other.grad += out.grad\n",
        "\n",
        "        out.backward = backward\n",
        "        return out\n",
        "\n",
        "\n",
        "    def __radd__(self, other):\n",
        "        return self + other\n",
        "\n",
        "\n",
        "    def __neg__(self):\n",
        "        return self * -1\n",
        "\n",
        "\n",
        "    def tanh(self):\n",
        "        x = self.data\n",
        "        val = (np.exp(2 * x) - 1) / (np.exp(2 * x) + 1)\n",
        "        out = Value(val, _children=(self,), _op=\"tanh\")\n",
        "\n",
        "        def backward():\n",
        "            self.grad += (1 - val**2) * out.grad\n",
        "\n",
        "        out.backward = backward\n",
        "        return out\n",
        "\n",
        "\n",
        "    def full_backward(self):\n",
        "        topo = []\n",
        "        visited = set()\n",
        "\n",
        "        def build_topo(v):\n",
        "              if v not in visited:\n",
        "                visited.add(v)\n",
        "                for child in v._prev:\n",
        "                    build_topo(child)\n",
        "                topo.append(v)\n",
        "\n",
        "        build_topo(self)\n",
        "\n",
        "        self.grad = 1.0\n",
        "\n",
        "        for node in reversed(topo):\n",
        "            node.backward()"
      ]
    },
    {
      "cell_type": "code",
      "execution_count": 27,
      "id": "0cd73235-61e0-4038-98d4-f404d0e7d54b",
      "metadata": {
        "tags": [],
        "colab": {
          "base_uri": "https://localhost:8080/"
        },
        "id": "0cd73235-61e0-4038-98d4-f404d0e7d54b",
        "outputId": "f21bea53-59f2-4874-c40c-88008472608d"
      },
      "outputs": [
        {
          "output_type": "execute_result",
          "data": {
            "text/plain": [
              "Value: -8"
            ]
          },
          "metadata": {},
          "execution_count": 27
        }
      ],
      "source": [
        "a = Value(2, label=\"a\")\n",
        "b = Value(-3, label=\"b\")\n",
        "c = Value(10, label=\"c\")\n",
        "f = Value(-2, label=\"f\")\n",
        "\n",
        "d = a * b\n",
        "d.label = \"d\"\n",
        "e = d + c\n",
        "e.label = \"e\"\n",
        "L = e * f\n",
        "L.label = \"L\"\n",
        "L"
      ]
    },
    {
      "cell_type": "code",
      "execution_count": 28,
      "id": "65e8f5cf-88ab-4dd1-af7d-d575490fcf21",
      "metadata": {
        "id": "65e8f5cf-88ab-4dd1-af7d-d575490fcf21"
      },
      "outputs": [],
      "source": [
        "L.full_backward()"
      ]
    },
    {
      "cell_type": "code",
      "execution_count": 29,
      "id": "44f151af-9301-4a78-98b5-4b6dd0bc10b1",
      "metadata": {
        "tags": [],
        "colab": {
          "base_uri": "https://localhost:8080/",
          "height": 193
        },
        "id": "44f151af-9301-4a78-98b5-4b6dd0bc10b1",
        "outputId": "1dc71443-2659-4af9-f2b6-0644bff18dd3"
      },
      "outputs": [
        {
          "output_type": "execute_result",
          "data": {
            "image/svg+xml": "<?xml version=\"1.0\" encoding=\"UTF-8\" standalone=\"no\"?>\n<!DOCTYPE svg PUBLIC \"-//W3C//DTD SVG 1.1//EN\"\n \"http://www.w3.org/Graphics/SVG/1.1/DTD/svg11.dtd\">\n<!-- Generated by graphviz version 2.43.0 (0)\n -->\n<!-- Title: %3 Pages: 1 -->\n<svg width=\"1157pt\" height=\"128pt\"\n viewBox=\"0.00 0.00 1157.00 128.00\" xmlns=\"http://www.w3.org/2000/svg\" xmlns:xlink=\"http://www.w3.org/1999/xlink\">\n<g id=\"graph0\" class=\"graph\" transform=\"scale(1 1) rotate(0) translate(4 124)\">\n<title>%3</title>\n<polygon fill=\"white\" stroke=\"transparent\" points=\"-4,4 -4,-124 1153,-124 1153,4 -4,4\"/>\n<!-- 139449068525056 -->\n<g id=\"node1\" class=\"node\">\n<title>139449068525056</title>\n<polygon fill=\"none\" stroke=\"black\" points=\"642,-27.5 642,-63.5 831,-63.5 831,-27.5 642,-27.5\"/>\n<text text-anchor=\"middle\" x=\"653.5\" y=\"-41.8\" font-family=\"Times,serif\" font-size=\"14.00\">e</text>\n<polyline fill=\"none\" stroke=\"black\" points=\"665,-27.5 665,-63.5 \"/>\n<text text-anchor=\"middle\" x=\"705\" y=\"-41.8\" font-family=\"Times,serif\" font-size=\"14.00\">data 4.0000</text>\n<polyline fill=\"none\" stroke=\"black\" points=\"745,-27.5 745,-63.5 \"/>\n<text text-anchor=\"middle\" x=\"788\" y=\"-41.8\" font-family=\"Times,serif\" font-size=\"14.00\">grad &#45;2.0000</text>\n</g>\n<!-- 139449068529184* -->\n<g id=\"node6\" class=\"node\">\n<title>139449068529184*</title>\n<ellipse fill=\"none\" stroke=\"black\" cx=\"894\" cy=\"-72.5\" rx=\"27\" ry=\"18\"/>\n<text text-anchor=\"middle\" x=\"894\" y=\"-68.8\" font-family=\"Times,serif\" font-size=\"14.00\">*</text>\n</g>\n<!-- 139449068525056&#45;&gt;139449068529184* -->\n<g id=\"edge4\" class=\"edge\">\n<title>139449068525056&#45;&gt;139449068529184*</title>\n<path fill=\"none\" stroke=\"black\" d=\"M831.1,-61.75C840.4,-63.37 849.38,-64.93 857.49,-66.33\"/>\n<polygon fill=\"black\" stroke=\"black\" points=\"857.14,-69.83 867.59,-68.09 858.34,-62.93 857.14,-69.83\"/>\n</g>\n<!-- 139449068525056+ -->\n<g id=\"node2\" class=\"node\">\n<title>139449068525056+</title>\n<ellipse fill=\"none\" stroke=\"black\" cx=\"579\" cy=\"-45.5\" rx=\"27\" ry=\"18\"/>\n<text text-anchor=\"middle\" x=\"579\" y=\"-41.8\" font-family=\"Times,serif\" font-size=\"14.00\">+</text>\n</g>\n<!-- 139449068525056+&#45;&gt;139449068525056 -->\n<g id=\"edge1\" class=\"edge\">\n<title>139449068525056+&#45;&gt;139449068525056</title>\n<path fill=\"none\" stroke=\"black\" d=\"M606.03,-45.5C613.66,-45.5 622.52,-45.5 631.94,-45.5\"/>\n<polygon fill=\"black\" stroke=\"black\" points=\"631.94,-49 641.94,-45.5 631.94,-42 631.94,-49\"/>\n</g>\n<!-- 139449068528656 -->\n<g id=\"node3\" class=\"node\">\n<title>139449068528656</title>\n<polygon fill=\"none\" stroke=\"black\" points=\"321,-55.5 321,-91.5 515,-91.5 515,-55.5 321,-55.5\"/>\n<text text-anchor=\"middle\" x=\"332.5\" y=\"-69.8\" font-family=\"Times,serif\" font-size=\"14.00\">d</text>\n<polyline fill=\"none\" stroke=\"black\" points=\"344,-55.5 344,-91.5 \"/>\n<text text-anchor=\"middle\" x=\"386.5\" y=\"-69.8\" font-family=\"Times,serif\" font-size=\"14.00\">data &#45;6.0000</text>\n<polyline fill=\"none\" stroke=\"black\" points=\"429,-55.5 429,-91.5 \"/>\n<text text-anchor=\"middle\" x=\"472\" y=\"-69.8\" font-family=\"Times,serif\" font-size=\"14.00\">grad &#45;2.0000</text>\n</g>\n<!-- 139449068528656&#45;&gt;139449068525056+ -->\n<g id=\"edge6\" class=\"edge\">\n<title>139449068528656&#45;&gt;139449068525056+</title>\n<path fill=\"none\" stroke=\"black\" d=\"M515.16,-56.57C524.82,-54.87 534.13,-53.23 542.49,-51.75\"/>\n<polygon fill=\"black\" stroke=\"black\" points=\"543.3,-55.17 552.54,-49.98 542.08,-48.27 543.3,-55.17\"/>\n</g>\n<!-- 139449068528656* -->\n<g id=\"node4\" class=\"node\">\n<title>139449068528656*</title>\n<ellipse fill=\"none\" stroke=\"black\" cx=\"257\" cy=\"-73.5\" rx=\"27\" ry=\"18\"/>\n<text text-anchor=\"middle\" x=\"257\" y=\"-69.8\" font-family=\"Times,serif\" font-size=\"14.00\">*</text>\n</g>\n<!-- 139449068528656*&#45;&gt;139449068528656 -->\n<g id=\"edge2\" class=\"edge\">\n<title>139449068528656*&#45;&gt;139449068528656</title>\n<path fill=\"none\" stroke=\"black\" d=\"M284.26,-73.5C292.05,-73.5 301.1,-73.5 310.75,-73.5\"/>\n<polygon fill=\"black\" stroke=\"black\" points=\"310.99,-77 320.99,-73.5 310.99,-70 310.99,-77\"/>\n</g>\n<!-- 139449068529184 -->\n<g id=\"node5\" class=\"node\">\n<title>139449068529184</title>\n<polygon fill=\"none\" stroke=\"black\" points=\"957,-54.5 957,-90.5 1149,-90.5 1149,-54.5 957,-54.5\"/>\n<text text-anchor=\"middle\" x=\"969.5\" y=\"-68.8\" font-family=\"Times,serif\" font-size=\"14.00\">L</text>\n<polyline fill=\"none\" stroke=\"black\" points=\"982,-54.5 982,-90.5 \"/>\n<text text-anchor=\"middle\" x=\"1024.5\" y=\"-68.8\" font-family=\"Times,serif\" font-size=\"14.00\">data &#45;8.0000</text>\n<polyline fill=\"none\" stroke=\"black\" points=\"1067,-54.5 1067,-90.5 \"/>\n<text text-anchor=\"middle\" x=\"1108\" y=\"-68.8\" font-family=\"Times,serif\" font-size=\"14.00\">grad 1.0000</text>\n</g>\n<!-- 139449068529184*&#45;&gt;139449068529184 -->\n<g id=\"edge3\" class=\"edge\">\n<title>139449068529184*&#45;&gt;139449068529184</title>\n<path fill=\"none\" stroke=\"black\" d=\"M921.28,-72.5C928.78,-72.5 937.44,-72.5 946.67,-72.5\"/>\n<polygon fill=\"black\" stroke=\"black\" points=\"946.87,-76 956.87,-72.5 946.87,-69 946.87,-76\"/>\n</g>\n<!-- 139449068532256 -->\n<g id=\"node7\" class=\"node\">\n<title>139449068532256</title>\n<polygon fill=\"none\" stroke=\"black\" points=\"4.5,-83.5 4.5,-119.5 189.5,-119.5 189.5,-83.5 4.5,-83.5\"/>\n<text text-anchor=\"middle\" x=\"16\" y=\"-97.8\" font-family=\"Times,serif\" font-size=\"14.00\">a</text>\n<polyline fill=\"none\" stroke=\"black\" points=\"27.5,-83.5 27.5,-119.5 \"/>\n<text text-anchor=\"middle\" x=\"67.5\" y=\"-97.8\" font-family=\"Times,serif\" font-size=\"14.00\">data 2.0000</text>\n<polyline fill=\"none\" stroke=\"black\" points=\"107.5,-83.5 107.5,-119.5 \"/>\n<text text-anchor=\"middle\" x=\"148.5\" y=\"-97.8\" font-family=\"Times,serif\" font-size=\"14.00\">grad 6.0000</text>\n</g>\n<!-- 139449068532256&#45;&gt;139449068528656* -->\n<g id=\"edge5\" class=\"edge\">\n<title>139449068532256&#45;&gt;139449068528656*</title>\n<path fill=\"none\" stroke=\"black\" d=\"M189.91,-85.21C200.76,-83.29 211.28,-81.43 220.61,-79.77\"/>\n<polygon fill=\"black\" stroke=\"black\" points=\"221.37,-83.19 230.6,-78 220.15,-76.3 221.37,-83.19\"/>\n</g>\n<!-- 139449068532400 -->\n<g id=\"node8\" class=\"node\">\n<title>139449068532400</title>\n<polygon fill=\"none\" stroke=\"black\" points=\"642.5,-82.5 642.5,-118.5 830.5,-118.5 830.5,-82.5 642.5,-82.5\"/>\n<text text-anchor=\"middle\" x=\"653\" y=\"-96.8\" font-family=\"Times,serif\" font-size=\"14.00\">f</text>\n<polyline fill=\"none\" stroke=\"black\" points=\"663.5,-82.5 663.5,-118.5 \"/>\n<text text-anchor=\"middle\" x=\"706\" y=\"-96.8\" font-family=\"Times,serif\" font-size=\"14.00\">data &#45;2.0000</text>\n<polyline fill=\"none\" stroke=\"black\" points=\"748.5,-82.5 748.5,-118.5 \"/>\n<text text-anchor=\"middle\" x=\"789.5\" y=\"-96.8\" font-family=\"Times,serif\" font-size=\"14.00\">grad 4.0000</text>\n</g>\n<!-- 139449068532400&#45;&gt;139449068529184* -->\n<g id=\"edge9\" class=\"edge\">\n<title>139449068532400&#45;&gt;139449068529184*</title>\n<path fill=\"none\" stroke=\"black\" d=\"M830.65,-83.73C840.2,-82.01 849.43,-80.35 857.72,-78.85\"/>\n<polygon fill=\"black\" stroke=\"black\" points=\"858.47,-82.27 867.69,-77.06 857.23,-75.39 858.47,-82.27\"/>\n</g>\n<!-- 139449068532448 -->\n<g id=\"node9\" class=\"node\">\n<title>139449068532448</title>\n<polygon fill=\"none\" stroke=\"black\" points=\"320,-0.5 320,-36.5 516,-36.5 516,-0.5 320,-0.5\"/>\n<text text-anchor=\"middle\" x=\"331.5\" y=\"-14.8\" font-family=\"Times,serif\" font-size=\"14.00\">c</text>\n<polyline fill=\"none\" stroke=\"black\" points=\"343,-0.5 343,-36.5 \"/>\n<text text-anchor=\"middle\" x=\"386.5\" y=\"-14.8\" font-family=\"Times,serif\" font-size=\"14.00\">data 10.0000</text>\n<polyline fill=\"none\" stroke=\"black\" points=\"430,-0.5 430,-36.5 \"/>\n<text text-anchor=\"middle\" x=\"473\" y=\"-14.8\" font-family=\"Times,serif\" font-size=\"14.00\">grad &#45;2.0000</text>\n</g>\n<!-- 139449068532448&#45;&gt;139449068525056+ -->\n<g id=\"edge8\" class=\"edge\">\n<title>139449068532448&#45;&gt;139449068525056+</title>\n<path fill=\"none\" stroke=\"black\" d=\"M516.07,-34.98C525.42,-36.57 534.43,-38.1 542.55,-39.48\"/>\n<polygon fill=\"black\" stroke=\"black\" points=\"542.21,-42.97 552.65,-41.2 543.38,-36.07 542.21,-42.97\"/>\n</g>\n<!-- 139449068523760 -->\n<g id=\"node10\" class=\"node\">\n<title>139449068523760</title>\n<polygon fill=\"none\" stroke=\"black\" points=\"0,-28.5 0,-64.5 194,-64.5 194,-28.5 0,-28.5\"/>\n<text text-anchor=\"middle\" x=\"11.5\" y=\"-42.8\" font-family=\"Times,serif\" font-size=\"14.00\">b</text>\n<polyline fill=\"none\" stroke=\"black\" points=\"23,-28.5 23,-64.5 \"/>\n<text text-anchor=\"middle\" x=\"65.5\" y=\"-42.8\" font-family=\"Times,serif\" font-size=\"14.00\">data &#45;3.0000</text>\n<polyline fill=\"none\" stroke=\"black\" points=\"108,-28.5 108,-64.5 \"/>\n<text text-anchor=\"middle\" x=\"151\" y=\"-42.8\" font-family=\"Times,serif\" font-size=\"14.00\">grad &#45;4.0000</text>\n</g>\n<!-- 139449068523760&#45;&gt;139449068528656* -->\n<g id=\"edge7\" class=\"edge\">\n<title>139449068523760&#45;&gt;139449068528656*</title>\n<path fill=\"none\" stroke=\"black\" d=\"M194.01,-62.91C203.35,-64.5 212.37,-66.04 220.49,-67.43\"/>\n<polygon fill=\"black\" stroke=\"black\" points=\"220.16,-70.93 230.6,-69.16 221.34,-64.03 220.16,-70.93\"/>\n</g>\n</g>\n</svg>\n",
            "text/plain": [
              "<graphviz.graphs.Digraph at 0x7ed404319810>"
            ]
          },
          "metadata": {},
          "execution_count": 29
        }
      ],
      "source": [
        "draw_dot(L)"
      ]
    },
    {
      "cell_type": "code",
      "execution_count": 30,
      "id": "cb74e0f4-8087-4b55-b38a-c6421eea6a38",
      "metadata": {
        "colab": {
          "base_uri": "https://localhost:8080/",
          "height": 227
        },
        "id": "cb74e0f4-8087-4b55-b38a-c6421eea6a38",
        "outputId": "b52a1994-cc95-4630-97dc-97d157ec3408"
      },
      "outputs": [
        {
          "output_type": "execute_result",
          "data": {
            "image/svg+xml": "<?xml version=\"1.0\" encoding=\"UTF-8\" standalone=\"no\"?>\n<!DOCTYPE svg PUBLIC \"-//W3C//DTD SVG 1.1//EN\"\n \"http://www.w3.org/Graphics/SVG/1.1/DTD/svg11.dtd\">\n<!-- Generated by graphviz version 2.43.0 (0)\n -->\n<!-- Title: %3 Pages: 1 -->\n<svg width=\"1164pt\" height=\"154pt\"\n viewBox=\"0.00 0.00 1164.00 154.00\" xmlns=\"http://www.w3.org/2000/svg\" xmlns:xlink=\"http://www.w3.org/1999/xlink\">\n<g id=\"graph0\" class=\"graph\" transform=\"scale(1 1) rotate(0) translate(4 150)\">\n<title>%3</title>\n<polygon fill=\"white\" stroke=\"transparent\" points=\"-4,4 -4,-150 1160,-150 1160,4 -4,4\"/>\n<!-- 139449068532736 -->\n<g id=\"node1\" class=\"node\">\n<title>139449068532736</title>\n<polygon fill=\"none\" stroke=\"black\" points=\"642,-54.5 642,-90.5 831,-90.5 831,-54.5 642,-54.5\"/>\n<text text-anchor=\"middle\" x=\"653.5\" y=\"-68.8\" font-family=\"Times,serif\" font-size=\"14.00\">e</text>\n<polyline fill=\"none\" stroke=\"black\" points=\"665,-54.5 665,-90.5 \"/>\n<text text-anchor=\"middle\" x=\"705\" y=\"-68.8\" font-family=\"Times,serif\" font-size=\"14.00\">data 6.5600</text>\n<polyline fill=\"none\" stroke=\"black\" points=\"745,-54.5 745,-90.5 \"/>\n<text text-anchor=\"middle\" x=\"788\" y=\"-68.8\" font-family=\"Times,serif\" font-size=\"14.00\">grad &#45;2.4000</text>\n</g>\n<!-- 139449068527360* -->\n<g id=\"node6\" class=\"node\">\n<title>139449068527360*</title>\n<ellipse fill=\"none\" stroke=\"black\" cx=\"894\" cy=\"-99.5\" rx=\"27\" ry=\"18\"/>\n<text text-anchor=\"middle\" x=\"894\" y=\"-95.8\" font-family=\"Times,serif\" font-size=\"14.00\">*</text>\n</g>\n<!-- 139449068532736&#45;&gt;139449068527360* -->\n<g id=\"edge4\" class=\"edge\">\n<title>139449068532736&#45;&gt;139449068527360*</title>\n<path fill=\"none\" stroke=\"black\" d=\"M831.1,-88.75C840.4,-90.37 849.38,-91.93 857.49,-93.33\"/>\n<polygon fill=\"black\" stroke=\"black\" points=\"857.14,-96.83 867.59,-95.09 858.34,-89.93 857.14,-96.83\"/>\n</g>\n<!-- 139449068532736+ -->\n<g id=\"node2\" class=\"node\">\n<title>139449068532736+</title>\n<ellipse fill=\"none\" stroke=\"black\" cx=\"579\" cy=\"-72.5\" rx=\"27\" ry=\"18\"/>\n<text text-anchor=\"middle\" x=\"579\" y=\"-68.8\" font-family=\"Times,serif\" font-size=\"14.00\">+</text>\n</g>\n<!-- 139449068532736+&#45;&gt;139449068532736 -->\n<g id=\"edge1\" class=\"edge\">\n<title>139449068532736+&#45;&gt;139449068532736</title>\n<path fill=\"none\" stroke=\"black\" d=\"M606.03,-72.5C613.66,-72.5 622.52,-72.5 631.94,-72.5\"/>\n<polygon fill=\"black\" stroke=\"black\" points=\"631.94,-76 641.94,-72.5 631.94,-69 631.94,-76\"/>\n</g>\n<!-- 139449068528704 -->\n<g id=\"node3\" class=\"node\">\n<title>139449068528704</title>\n<polygon fill=\"none\" stroke=\"black\" points=\"4.5,-55.5 4.5,-91.5 189.5,-91.5 189.5,-55.5 4.5,-55.5\"/>\n<text text-anchor=\"middle\" x=\"16\" y=\"-69.8\" font-family=\"Times,serif\" font-size=\"14.00\">a</text>\n<polyline fill=\"none\" stroke=\"black\" points=\"27.5,-55.5 27.5,-91.5 \"/>\n<text text-anchor=\"middle\" x=\"67.5\" y=\"-69.8\" font-family=\"Times,serif\" font-size=\"14.00\">data 1.4000</text>\n<polyline fill=\"none\" stroke=\"black\" points=\"107.5,-55.5 107.5,-91.5 \"/>\n<text text-anchor=\"middle\" x=\"148.5\" y=\"-69.8\" font-family=\"Times,serif\" font-size=\"14.00\">grad 6.2400</text>\n</g>\n<!-- 139449068529616* -->\n<g id=\"node10\" class=\"node\">\n<title>139449068529616*</title>\n<ellipse fill=\"none\" stroke=\"black\" cx=\"257\" cy=\"-45.5\" rx=\"27\" ry=\"18\"/>\n<text text-anchor=\"middle\" x=\"257\" y=\"-41.8\" font-family=\"Times,serif\" font-size=\"14.00\">*</text>\n</g>\n<!-- 139449068528704&#45;&gt;139449068529616* -->\n<g id=\"edge6\" class=\"edge\">\n<title>139449068528704&#45;&gt;139449068529616*</title>\n<path fill=\"none\" stroke=\"black\" d=\"M189.91,-57.21C200.76,-55.29 211.28,-53.43 220.61,-51.77\"/>\n<polygon fill=\"black\" stroke=\"black\" points=\"221.37,-55.19 230.6,-50 220.15,-48.3 221.37,-55.19\"/>\n</g>\n<!-- 139449068527168 -->\n<g id=\"node4\" class=\"node\">\n<title>139449068527168</title>\n<polygon fill=\"none\" stroke=\"black\" points=\"642.5,-109.5 642.5,-145.5 830.5,-145.5 830.5,-109.5 642.5,-109.5\"/>\n<text text-anchor=\"middle\" x=\"653\" y=\"-123.8\" font-family=\"Times,serif\" font-size=\"14.00\">f</text>\n<polyline fill=\"none\" stroke=\"black\" points=\"663.5,-109.5 663.5,-145.5 \"/>\n<text text-anchor=\"middle\" x=\"706\" y=\"-123.8\" font-family=\"Times,serif\" font-size=\"14.00\">data &#45;2.4000</text>\n<polyline fill=\"none\" stroke=\"black\" points=\"748.5,-109.5 748.5,-145.5 \"/>\n<text text-anchor=\"middle\" x=\"789.5\" y=\"-123.8\" font-family=\"Times,serif\" font-size=\"14.00\">grad 6.5600</text>\n</g>\n<!-- 139449068527168&#45;&gt;139449068527360* -->\n<g id=\"edge5\" class=\"edge\">\n<title>139449068527168&#45;&gt;139449068527360*</title>\n<path fill=\"none\" stroke=\"black\" d=\"M830.65,-110.73C840.2,-109.01 849.43,-107.35 857.72,-105.85\"/>\n<polygon fill=\"black\" stroke=\"black\" points=\"858.47,-109.27 867.69,-104.06 857.23,-102.39 858.47,-109.27\"/>\n</g>\n<!-- 139449068527360 -->\n<g id=\"node5\" class=\"node\">\n<title>139449068527360</title>\n<polygon fill=\"none\" stroke=\"black\" points=\"957,-81.5 957,-117.5 1156,-117.5 1156,-81.5 957,-81.5\"/>\n<text text-anchor=\"middle\" x=\"969.5\" y=\"-95.8\" font-family=\"Times,serif\" font-size=\"14.00\">L</text>\n<polyline fill=\"none\" stroke=\"black\" points=\"982,-81.5 982,-117.5 \"/>\n<text text-anchor=\"middle\" x=\"1028\" y=\"-95.8\" font-family=\"Times,serif\" font-size=\"14.00\">data &#45;15.7440</text>\n<polyline fill=\"none\" stroke=\"black\" points=\"1074,-81.5 1074,-117.5 \"/>\n<text text-anchor=\"middle\" x=\"1115\" y=\"-95.8\" font-family=\"Times,serif\" font-size=\"14.00\">grad 1.0000</text>\n</g>\n<!-- 139449068527360*&#45;&gt;139449068527360 -->\n<g id=\"edge2\" class=\"edge\">\n<title>139449068527360*&#45;&gt;139449068527360</title>\n<path fill=\"none\" stroke=\"black\" d=\"M921.14,-99.5C928.65,-99.5 937.33,-99.5 946.6,-99.5\"/>\n<polygon fill=\"black\" stroke=\"black\" points=\"946.86,-103 956.86,-99.5 946.86,-96 946.86,-103\"/>\n</g>\n<!-- 139449068532064 -->\n<g id=\"node7\" class=\"node\">\n<title>139449068532064</title>\n<polygon fill=\"none\" stroke=\"black\" points=\"0,-0.5 0,-36.5 194,-36.5 194,-0.5 0,-0.5\"/>\n<text text-anchor=\"middle\" x=\"11.5\" y=\"-14.8\" font-family=\"Times,serif\" font-size=\"14.00\">b</text>\n<polyline fill=\"none\" stroke=\"black\" points=\"23,-0.5 23,-36.5 \"/>\n<text text-anchor=\"middle\" x=\"65.5\" y=\"-14.8\" font-family=\"Times,serif\" font-size=\"14.00\">data &#45;2.6000</text>\n<polyline fill=\"none\" stroke=\"black\" points=\"108,-0.5 108,-36.5 \"/>\n<text text-anchor=\"middle\" x=\"151\" y=\"-14.8\" font-family=\"Times,serif\" font-size=\"14.00\">grad &#45;3.3600</text>\n</g>\n<!-- 139449068532064&#45;&gt;139449068529616* -->\n<g id=\"edge7\" class=\"edge\">\n<title>139449068532064&#45;&gt;139449068529616*</title>\n<path fill=\"none\" stroke=\"black\" d=\"M194.01,-34.91C203.35,-36.5 212.37,-38.04 220.49,-39.43\"/>\n<polygon fill=\"black\" stroke=\"black\" points=\"220.16,-42.93 230.6,-41.16 221.34,-36.03 220.16,-42.93\"/>\n</g>\n<!-- 139449068520832 -->\n<g id=\"node8\" class=\"node\">\n<title>139449068520832</title>\n<polygon fill=\"none\" stroke=\"black\" points=\"320,-82.5 320,-118.5 516,-118.5 516,-82.5 320,-82.5\"/>\n<text text-anchor=\"middle\" x=\"331.5\" y=\"-96.8\" font-family=\"Times,serif\" font-size=\"14.00\">c</text>\n<polyline fill=\"none\" stroke=\"black\" points=\"343,-82.5 343,-118.5 \"/>\n<text text-anchor=\"middle\" x=\"386.5\" y=\"-96.8\" font-family=\"Times,serif\" font-size=\"14.00\">data 10.2000</text>\n<polyline fill=\"none\" stroke=\"black\" points=\"430,-82.5 430,-118.5 \"/>\n<text text-anchor=\"middle\" x=\"473\" y=\"-96.8\" font-family=\"Times,serif\" font-size=\"14.00\">grad &#45;2.4000</text>\n</g>\n<!-- 139449068520832&#45;&gt;139449068532736+ -->\n<g id=\"edge8\" class=\"edge\">\n<title>139449068520832&#45;&gt;139449068532736+</title>\n<path fill=\"none\" stroke=\"black\" d=\"M516.07,-83.41C525.42,-81.76 534.43,-80.17 542.55,-78.74\"/>\n<polygon fill=\"black\" stroke=\"black\" points=\"543.41,-82.15 552.65,-76.96 542.2,-75.25 543.41,-82.15\"/>\n</g>\n<!-- 139449068529616 -->\n<g id=\"node9\" class=\"node\">\n<title>139449068529616</title>\n<polygon fill=\"none\" stroke=\"black\" points=\"321,-27.5 321,-63.5 515,-63.5 515,-27.5 321,-27.5\"/>\n<text text-anchor=\"middle\" x=\"332.5\" y=\"-41.8\" font-family=\"Times,serif\" font-size=\"14.00\">d</text>\n<polyline fill=\"none\" stroke=\"black\" points=\"344,-27.5 344,-63.5 \"/>\n<text text-anchor=\"middle\" x=\"386.5\" y=\"-41.8\" font-family=\"Times,serif\" font-size=\"14.00\">data &#45;3.6400</text>\n<polyline fill=\"none\" stroke=\"black\" points=\"429,-27.5 429,-63.5 \"/>\n<text text-anchor=\"middle\" x=\"472\" y=\"-41.8\" font-family=\"Times,serif\" font-size=\"14.00\">grad &#45;2.4000</text>\n</g>\n<!-- 139449068529616&#45;&gt;139449068532736+ -->\n<g id=\"edge9\" class=\"edge\">\n<title>139449068529616&#45;&gt;139449068532736+</title>\n<path fill=\"none\" stroke=\"black\" d=\"M515.16,-61.83C524.82,-63.47 534.13,-65.05 542.49,-66.47\"/>\n<polygon fill=\"black\" stroke=\"black\" points=\"542.09,-69.95 552.54,-68.18 543.26,-63.05 542.09,-69.95\"/>\n</g>\n<!-- 139449068529616*&#45;&gt;139449068529616 -->\n<g id=\"edge3\" class=\"edge\">\n<title>139449068529616*&#45;&gt;139449068529616</title>\n<path fill=\"none\" stroke=\"black\" d=\"M284.26,-45.5C292.05,-45.5 301.1,-45.5 310.75,-45.5\"/>\n<polygon fill=\"black\" stroke=\"black\" points=\"310.99,-49 320.99,-45.5 310.99,-42 310.99,-49\"/>\n</g>\n</g>\n</svg>\n",
            "text/plain": [
              "<graphviz.graphs.Digraph at 0x7ed40431a6e0>"
            ]
          },
          "metadata": {},
          "execution_count": 30
        }
      ],
      "source": [
        "a = Value(2 - 0.1 * a.grad, label=\"a\")\n",
        "b = Value(-3 - 0.1 * b.grad, label=\"b\")\n",
        "c = Value(10 - 0.1 * c.grad, label=\"c\")\n",
        "f = Value(-2 - 0.1 * f.grad, label=\"f\")\n",
        "\n",
        "d = a * b\n",
        "d.label = \"d\"\n",
        "e = d + c\n",
        "e.label = \"e\"\n",
        "L = e * f\n",
        "L.label = \"L\"\n",
        "\n",
        "L.full_backward()\n",
        "draw_dot(L)"
      ]
    },
    {
      "cell_type": "code",
      "execution_count": 11,
      "id": "9e5334be-ba11-423d-a241-0fc1f965d313",
      "metadata": {
        "id": "9e5334be-ba11-423d-a241-0fc1f965d313"
      },
      "outputs": [],
      "source": [
        "# L.grad = 1\n",
        "# f.grad = e.data #dL/df = e = dL/dL * dL/df\n",
        "# e.grad = f.data\n",
        "# c.grad = e.data\n",
        "# d.grad = e.data\n",
        "# b.grad = d.grad * a.data\n",
        "# a.grad = d.grad * b.data\n",
        "\n",
        "# #dL/dc = dL/de * de/dc\n",
        "# #dL/dd = dL/de * de/dd"
      ]
    },
    {
      "cell_type": "code",
      "execution_count": 31,
      "id": "2eb21b75-d2d6-417e-b941-0763378c4b19",
      "metadata": {
        "colab": {
          "base_uri": "https://localhost:8080/",
          "height": 302
        },
        "id": "2eb21b75-d2d6-417e-b941-0763378c4b19",
        "outputId": "801c70a3-5485-4137-b96a-fabc53c311e7"
      },
      "outputs": [
        {
          "output_type": "execute_result",
          "data": {
            "image/svg+xml": "<?xml version=\"1.0\" encoding=\"UTF-8\" standalone=\"no\"?>\n<!DOCTYPE svg PUBLIC \"-//W3C//DTD SVG 1.1//EN\"\n \"http://www.w3.org/Graphics/SVG/1.1/DTD/svg11.dtd\">\n<!-- Generated by graphviz version 2.43.0 (0)\n -->\n<!-- Title: %3 Pages: 1 -->\n<svg width=\"1537pt\" height=\"210pt\"\n viewBox=\"0.00 0.00 1537.00 210.00\" xmlns=\"http://www.w3.org/2000/svg\" xmlns:xlink=\"http://www.w3.org/1999/xlink\">\n<g id=\"graph0\" class=\"graph\" transform=\"scale(1 1) rotate(0) translate(4 206)\">\n<title>%3</title>\n<polygon fill=\"white\" stroke=\"transparent\" points=\"-4,4 -4,-206 1533,-206 1533,4 -4,4\"/>\n<!-- 139449068523520 -->\n<g id=\"node1\" class=\"node\">\n<title>139449068523520</title>\n<polygon fill=\"none\" stroke=\"black\" points=\"1347,-109.5 1347,-145.5 1529,-145.5 1529,-109.5 1347,-109.5\"/>\n<text text-anchor=\"middle\" x=\"1357\" y=\"-123.8\" font-family=\"Times,serif\" font-size=\"14.00\">t</text>\n<polyline fill=\"none\" stroke=\"black\" points=\"1367,-109.5 1367,-145.5 \"/>\n<text text-anchor=\"middle\" x=\"1407\" y=\"-123.8\" font-family=\"Times,serif\" font-size=\"14.00\">data 0.7064</text>\n<polyline fill=\"none\" stroke=\"black\" points=\"1447,-109.5 1447,-145.5 \"/>\n<text text-anchor=\"middle\" x=\"1488\" y=\"-123.8\" font-family=\"Times,serif\" font-size=\"14.00\">grad 1.0000</text>\n</g>\n<!-- 139449068523520tanh -->\n<g id=\"node2\" class=\"node\">\n<title>139449068523520tanh</title>\n<ellipse fill=\"none\" stroke=\"black\" cx=\"1284\" cy=\"-127.5\" rx=\"27\" ry=\"18\"/>\n<text text-anchor=\"middle\" x=\"1284\" y=\"-123.8\" font-family=\"Times,serif\" font-size=\"14.00\">tanh</text>\n</g>\n<!-- 139449068523520tanh&#45;&gt;139449068523520 -->\n<g id=\"edge1\" class=\"edge\">\n<title>139449068523520tanh&#45;&gt;139449068523520</title>\n<path fill=\"none\" stroke=\"black\" d=\"M1311.13,-127.5C1318.67,-127.5 1327.39,-127.5 1336.64,-127.5\"/>\n<polygon fill=\"black\" stroke=\"black\" points=\"1336.87,-131 1346.87,-127.5 1336.87,-124 1336.87,-131\"/>\n</g>\n<!-- 139449068524576 -->\n<g id=\"node3\" class=\"node\">\n<title>139449068524576</title>\n<polygon fill=\"none\" stroke=\"black\" points=\"695.5,-137.5 695.5,-173.5 880.5,-173.5 880.5,-137.5 695.5,-137.5\"/>\n<text text-anchor=\"middle\" x=\"707\" y=\"-151.8\" font-family=\"Times,serif\" font-size=\"14.00\">b</text>\n<polyline fill=\"none\" stroke=\"black\" points=\"718.5,-137.5 718.5,-173.5 \"/>\n<text text-anchor=\"middle\" x=\"758.5\" y=\"-151.8\" font-family=\"Times,serif\" font-size=\"14.00\">data 6.8800</text>\n<polyline fill=\"none\" stroke=\"black\" points=\"798.5,-137.5 798.5,-173.5 \"/>\n<text text-anchor=\"middle\" x=\"839.5\" y=\"-151.8\" font-family=\"Times,serif\" font-size=\"14.00\">grad 0.5010</text>\n</g>\n<!-- 139449068525440+ -->\n<g id=\"node12\" class=\"node\">\n<title>139449068525440+</title>\n<ellipse fill=\"none\" stroke=\"black\" cx=\"973\" cy=\"-127.5\" rx=\"27\" ry=\"18\"/>\n<text text-anchor=\"middle\" x=\"973\" y=\"-123.8\" font-family=\"Times,serif\" font-size=\"14.00\">+</text>\n</g>\n<!-- 139449068524576&#45;&gt;139449068525440+ -->\n<g id=\"edge11\" class=\"edge\">\n<title>139449068524576&#45;&gt;139449068525440+</title>\n<path fill=\"none\" stroke=\"black\" d=\"M880.77,-141.46C900.52,-138.44 920.26,-135.42 936.29,-132.96\"/>\n<polygon fill=\"black\" stroke=\"black\" points=\"936.9,-136.41 946.26,-131.44 935.85,-129.49 936.9,-136.41\"/>\n</g>\n<!-- 139449068524720 -->\n<g id=\"node4\" class=\"node\">\n<title>139449068524720</title>\n<polygon fill=\"none\" stroke=\"black\" points=\"2,-55.5 2,-91.5 198,-91.5 198,-55.5 2,-55.5\"/>\n<text text-anchor=\"middle\" x=\"17\" y=\"-69.8\" font-family=\"Times,serif\" font-size=\"14.00\">x1</text>\n<polyline fill=\"none\" stroke=\"black\" points=\"32,-55.5 32,-91.5 \"/>\n<text text-anchor=\"middle\" x=\"72\" y=\"-69.8\" font-family=\"Times,serif\" font-size=\"14.00\">data 2.0000</text>\n<polyline fill=\"none\" stroke=\"black\" points=\"112,-55.5 112,-91.5 \"/>\n<text text-anchor=\"middle\" x=\"155\" y=\"-69.8\" font-family=\"Times,serif\" font-size=\"14.00\">grad &#45;1.5029</text>\n</g>\n<!-- 139449068527552* -->\n<g id=\"node15\" class=\"node\">\n<title>139449068527552*</title>\n<ellipse fill=\"none\" stroke=\"black\" cx=\"263\" cy=\"-73.5\" rx=\"27\" ry=\"18\"/>\n<text text-anchor=\"middle\" x=\"263\" y=\"-69.8\" font-family=\"Times,serif\" font-size=\"14.00\">*</text>\n</g>\n<!-- 139449068524720&#45;&gt;139449068527552* -->\n<g id=\"edge10\" class=\"edge\">\n<title>139449068524720&#45;&gt;139449068527552*</title>\n<path fill=\"none\" stroke=\"black\" d=\"M198.37,-73.5C208.05,-73.5 217.4,-73.5 225.8,-73.5\"/>\n<polygon fill=\"black\" stroke=\"black\" points=\"225.91,-77 235.91,-73.5 225.91,-70 225.91,-77\"/>\n</g>\n<!-- 139449068532928 -->\n<g id=\"node5\" class=\"node\">\n<title>139449068532928</title>\n<polygon fill=\"none\" stroke=\"black\" points=\"666,-82.5 666,-118.5 910,-118.5 910,-82.5 666,-82.5\"/>\n<text text-anchor=\"middle\" x=\"704.5\" y=\"-96.8\" font-family=\"Times,serif\" font-size=\"14.00\">x1w1x2w2</text>\n<polyline fill=\"none\" stroke=\"black\" points=\"743,-82.5 743,-118.5 \"/>\n<text text-anchor=\"middle\" x=\"785.5\" y=\"-96.8\" font-family=\"Times,serif\" font-size=\"14.00\">data &#45;6.0000</text>\n<polyline fill=\"none\" stroke=\"black\" points=\"828,-82.5 828,-118.5 \"/>\n<text text-anchor=\"middle\" x=\"869\" y=\"-96.8\" font-family=\"Times,serif\" font-size=\"14.00\">grad 0.5010</text>\n</g>\n<!-- 139449068532928&#45;&gt;139449068525440+ -->\n<g id=\"edge12\" class=\"edge\">\n<title>139449068532928&#45;&gt;139449068525440+</title>\n<path fill=\"none\" stroke=\"black\" d=\"M910.04,-118.36C919.47,-119.75 928.43,-121.07 936.46,-122.26\"/>\n<polygon fill=\"black\" stroke=\"black\" points=\"936.03,-125.73 946.43,-123.73 937.05,-118.81 936.03,-125.73\"/>\n</g>\n<!-- 139449068532928+ -->\n<g id=\"node6\" class=\"node\">\n<title>139449068532928+</title>\n<ellipse fill=\"none\" stroke=\"black\" cx=\"603\" cy=\"-100.5\" rx=\"27\" ry=\"18\"/>\n<text text-anchor=\"middle\" x=\"603\" y=\"-96.8\" font-family=\"Times,serif\" font-size=\"14.00\">+</text>\n</g>\n<!-- 139449068532928+&#45;&gt;139449068532928 -->\n<g id=\"edge2\" class=\"edge\">\n<title>139449068532928+&#45;&gt;139449068532928</title>\n<path fill=\"none\" stroke=\"black\" d=\"M630.22,-100.5C637.7,-100.5 646.4,-100.5 655.79,-100.5\"/>\n<polygon fill=\"black\" stroke=\"black\" points=\"655.8,-104 665.8,-100.5 655.8,-97 655.8,-104\"/>\n</g>\n<!-- 139449068530048 -->\n<g id=\"node7\" class=\"node\">\n<title>139449068530048</title>\n<polygon fill=\"none\" stroke=\"black\" points=\"328.5,-110.5 328.5,-146.5 537.5,-146.5 537.5,-110.5 328.5,-110.5\"/>\n<text text-anchor=\"middle\" x=\"352\" y=\"-124.8\" font-family=\"Times,serif\" font-size=\"14.00\">x2w2</text>\n<polyline fill=\"none\" stroke=\"black\" points=\"375.5,-110.5 375.5,-146.5 \"/>\n<text text-anchor=\"middle\" x=\"415.5\" y=\"-124.8\" font-family=\"Times,serif\" font-size=\"14.00\">data 0.0000</text>\n<polyline fill=\"none\" stroke=\"black\" points=\"455.5,-110.5 455.5,-146.5 \"/>\n<text text-anchor=\"middle\" x=\"496.5\" y=\"-124.8\" font-family=\"Times,serif\" font-size=\"14.00\">grad 0.5010</text>\n</g>\n<!-- 139449068530048&#45;&gt;139449068532928+ -->\n<g id=\"edge7\" class=\"edge\">\n<title>139449068530048&#45;&gt;139449068532928+</title>\n<path fill=\"none\" stroke=\"black\" d=\"M537.53,-111.25C547.8,-109.53 557.66,-107.89 566.45,-106.43\"/>\n<polygon fill=\"black\" stroke=\"black\" points=\"567.3,-109.83 576.59,-104.74 566.15,-102.93 567.3,-109.83\"/>\n</g>\n<!-- 139449068530048* -->\n<g id=\"node8\" class=\"node\">\n<title>139449068530048*</title>\n<ellipse fill=\"none\" stroke=\"black\" cx=\"263\" cy=\"-128.5\" rx=\"27\" ry=\"18\"/>\n<text text-anchor=\"middle\" x=\"263\" y=\"-124.8\" font-family=\"Times,serif\" font-size=\"14.00\">*</text>\n</g>\n<!-- 139449068530048*&#45;&gt;139449068530048 -->\n<g id=\"edge3\" class=\"edge\">\n<title>139449068530048*&#45;&gt;139449068530048</title>\n<path fill=\"none\" stroke=\"black\" d=\"M290.25,-128.5C298.43,-128.5 308.03,-128.5 318.31,-128.5\"/>\n<polygon fill=\"black\" stroke=\"black\" points=\"318.35,-132 328.35,-128.5 318.35,-125 318.35,-132\"/>\n</g>\n<!-- 139449068525344 -->\n<g id=\"node9\" class=\"node\">\n<title>139449068525344</title>\n<polygon fill=\"none\" stroke=\"black\" points=\"0,-0.5 0,-36.5 200,-36.5 200,-0.5 0,-0.5\"/>\n<text text-anchor=\"middle\" x=\"16.5\" y=\"-14.8\" font-family=\"Times,serif\" font-size=\"14.00\">w1</text>\n<polyline fill=\"none\" stroke=\"black\" points=\"33,-0.5 33,-36.5 \"/>\n<text text-anchor=\"middle\" x=\"75.5\" y=\"-14.8\" font-family=\"Times,serif\" font-size=\"14.00\">data &#45;3.0000</text>\n<polyline fill=\"none\" stroke=\"black\" points=\"118,-0.5 118,-36.5 \"/>\n<text text-anchor=\"middle\" x=\"159\" y=\"-14.8\" font-family=\"Times,serif\" font-size=\"14.00\">grad 1.0019</text>\n</g>\n<!-- 139449068525344&#45;&gt;139449068527552* -->\n<g id=\"edge14\" class=\"edge\">\n<title>139449068525344&#45;&gt;139449068527552*</title>\n<path fill=\"none\" stroke=\"black\" d=\"M169.28,-36.5C179.65,-39.61 190.16,-42.98 200,-46.5 210.28,-50.17 221.28,-54.74 231.11,-59.07\"/>\n<polygon fill=\"black\" stroke=\"black\" points=\"229.93,-62.37 240.48,-63.27 232.79,-55.99 229.93,-62.37\"/>\n</g>\n<!-- 139449068520304 -->\n<g id=\"node10\" class=\"node\">\n<title>139449068520304</title>\n<polygon fill=\"none\" stroke=\"black\" points=\"2.5,-165.5 2.5,-201.5 197.5,-201.5 197.5,-165.5 2.5,-165.5\"/>\n<text text-anchor=\"middle\" x=\"19\" y=\"-179.8\" font-family=\"Times,serif\" font-size=\"14.00\">w1</text>\n<polyline fill=\"none\" stroke=\"black\" points=\"35.5,-165.5 35.5,-201.5 \"/>\n<text text-anchor=\"middle\" x=\"75.5\" y=\"-179.8\" font-family=\"Times,serif\" font-size=\"14.00\">data 1.0000</text>\n<polyline fill=\"none\" stroke=\"black\" points=\"115.5,-165.5 115.5,-201.5 \"/>\n<text text-anchor=\"middle\" x=\"156.5\" y=\"-179.8\" font-family=\"Times,serif\" font-size=\"14.00\">grad 0.0000</text>\n</g>\n<!-- 139449068520304&#45;&gt;139449068530048* -->\n<g id=\"edge6\" class=\"edge\">\n<title>139449068520304&#45;&gt;139449068530048*</title>\n<path fill=\"none\" stroke=\"black\" d=\"M172.53,-165.44C181.84,-162.67 191.2,-159.67 200,-156.5 210.53,-152.71 221.75,-147.9 231.72,-143.33\"/>\n<polygon fill=\"black\" stroke=\"black\" points=\"233.25,-146.48 240.82,-139.07 230.28,-140.14 233.25,-146.48\"/>\n</g>\n<!-- 139449068525440 -->\n<g id=\"node11\" class=\"node\">\n<title>139449068525440</title>\n<polygon fill=\"none\" stroke=\"black\" points=\"1036,-109.5 1036,-145.5 1221,-145.5 1221,-109.5 1036,-109.5\"/>\n<text text-anchor=\"middle\" x=\"1047.5\" y=\"-123.8\" font-family=\"Times,serif\" font-size=\"14.00\">n</text>\n<polyline fill=\"none\" stroke=\"black\" points=\"1059,-109.5 1059,-145.5 \"/>\n<text text-anchor=\"middle\" x=\"1099\" y=\"-123.8\" font-family=\"Times,serif\" font-size=\"14.00\">data 0.8800</text>\n<polyline fill=\"none\" stroke=\"black\" points=\"1139,-109.5 1139,-145.5 \"/>\n<text text-anchor=\"middle\" x=\"1180\" y=\"-123.8\" font-family=\"Times,serif\" font-size=\"14.00\">grad 0.5010</text>\n</g>\n<!-- 139449068525440&#45;&gt;139449068523520tanh -->\n<g id=\"edge13\" class=\"edge\">\n<title>139449068525440&#45;&gt;139449068523520tanh</title>\n<path fill=\"none\" stroke=\"black\" d=\"M1221.01,-127.5C1230.01,-127.5 1238.74,-127.5 1246.66,-127.5\"/>\n<polygon fill=\"black\" stroke=\"black\" points=\"1246.91,-131 1256.91,-127.5 1246.91,-124 1246.91,-131\"/>\n</g>\n<!-- 139449068525440+&#45;&gt;139449068525440 -->\n<g id=\"edge4\" class=\"edge\">\n<title>139449068525440+&#45;&gt;139449068525440</title>\n<path fill=\"none\" stroke=\"black\" d=\"M1000.04,-127.5C1007.58,-127.5 1016.3,-127.5 1025.57,-127.5\"/>\n<polygon fill=\"black\" stroke=\"black\" points=\"1025.81,-131 1035.81,-127.5 1025.81,-124 1025.81,-131\"/>\n</g>\n<!-- 139449068526496 -->\n<g id=\"node13\" class=\"node\">\n<title>139449068526496</title>\n<polygon fill=\"none\" stroke=\"black\" points=\"4,-110.5 4,-146.5 196,-146.5 196,-110.5 4,-110.5\"/>\n<text text-anchor=\"middle\" x=\"19\" y=\"-124.8\" font-family=\"Times,serif\" font-size=\"14.00\">x1</text>\n<polyline fill=\"none\" stroke=\"black\" points=\"34,-110.5 34,-146.5 \"/>\n<text text-anchor=\"middle\" x=\"74\" y=\"-124.8\" font-family=\"Times,serif\" font-size=\"14.00\">data 0.0000</text>\n<polyline fill=\"none\" stroke=\"black\" points=\"114,-110.5 114,-146.5 \"/>\n<text text-anchor=\"middle\" x=\"155\" y=\"-124.8\" font-family=\"Times,serif\" font-size=\"14.00\">grad 0.5010</text>\n</g>\n<!-- 139449068526496&#45;&gt;139449068530048* -->\n<g id=\"edge8\" class=\"edge\">\n<title>139449068526496&#45;&gt;139449068530048*</title>\n<path fill=\"none\" stroke=\"black\" d=\"M196.05,-128.5C206.52,-128.5 216.65,-128.5 225.71,-128.5\"/>\n<polygon fill=\"black\" stroke=\"black\" points=\"225.79,-132 235.79,-128.5 225.79,-125 225.79,-132\"/>\n</g>\n<!-- 139449068527552 -->\n<g id=\"node14\" class=\"node\">\n<title>139449068527552</title>\n<polygon fill=\"none\" stroke=\"black\" points=\"326,-55.5 326,-91.5 540,-91.5 540,-55.5 326,-55.5\"/>\n<text text-anchor=\"middle\" x=\"349.5\" y=\"-69.8\" font-family=\"Times,serif\" font-size=\"14.00\">x1w1</text>\n<polyline fill=\"none\" stroke=\"black\" points=\"373,-55.5 373,-91.5 \"/>\n<text text-anchor=\"middle\" x=\"415.5\" y=\"-69.8\" font-family=\"Times,serif\" font-size=\"14.00\">data &#45;6.0000</text>\n<polyline fill=\"none\" stroke=\"black\" points=\"458,-55.5 458,-91.5 \"/>\n<text text-anchor=\"middle\" x=\"499\" y=\"-69.8\" font-family=\"Times,serif\" font-size=\"14.00\">grad 0.5010</text>\n</g>\n<!-- 139449068527552&#45;&gt;139449068532928+ -->\n<g id=\"edge9\" class=\"edge\">\n<title>139449068527552&#45;&gt;139449068532928+</title>\n<path fill=\"none\" stroke=\"black\" d=\"M540.4,-90.6C549.72,-92.1 558.65,-93.53 566.68,-94.82\"/>\n<polygon fill=\"black\" stroke=\"black\" points=\"566.24,-98.3 576.66,-96.43 567.35,-91.39 566.24,-98.3\"/>\n</g>\n<!-- 139449068527552*&#45;&gt;139449068527552 -->\n<g id=\"edge5\" class=\"edge\">\n<title>139449068527552*&#45;&gt;139449068527552</title>\n<path fill=\"none\" stroke=\"black\" d=\"M290.25,-73.5C297.7,-73.5 306.34,-73.5 315.59,-73.5\"/>\n<polygon fill=\"black\" stroke=\"black\" points=\"315.84,-77 325.84,-73.5 315.84,-70 315.84,-77\"/>\n</g>\n</g>\n</svg>\n",
            "text/plain": [
              "<graphviz.graphs.Digraph at 0x7ed4043196c0>"
            ]
          },
          "metadata": {},
          "execution_count": 31
        }
      ],
      "source": [
        "x1 = Value(2, label=\"x1\")\n",
        "x2 = Value(0, label=\"x1\")\n",
        "\n",
        "w1 = Value(-3, label=\"w1\")\n",
        "w2 = Value(1, label=\"w1\")\n",
        "\n",
        "b = Value(6.88, label=\"b\")\n",
        "\n",
        "\n",
        "x1w1 = x1 * w1\n",
        "x1w1.label = 'x1w1'\n",
        "\n",
        "x2w2 = x2 * w2\n",
        "x2w2.label = 'x2w2'\n",
        "\n",
        "x1w1x2w2 = x1w1 + x2w2\n",
        "x1w1x2w2.label = \"x1w1x2w2\"\n",
        "\n",
        "n = x1w1x2w2 + b\n",
        "n.label = \"n\"\n",
        "\n",
        "t = n.tanh()\n",
        "t.label = \"t\"\n",
        "\n",
        "t.full_backward()\n",
        "draw_dot(t)"
      ]
    },
    {
      "cell_type": "code",
      "execution_count": 32,
      "id": "f43b8275-9170-4372-9a9a-872cb3078e4b",
      "metadata": {
        "id": "f43b8275-9170-4372-9a9a-872cb3078e4b"
      },
      "outputs": [],
      "source": [
        "import random\n",
        "\n",
        "\n",
        "class Neuron:\n",
        "    def __init__(self, nin):\n",
        "        self.w = [Value(random.uniform(-1, 1)) for _ in range(nin)]\n",
        "        self.b = Value(random.uniform(-1, 1))\n",
        "\n",
        "\n",
        "    def __call__(self, x):\n",
        "        act = sum([wi * xi for (wi, xi) in zip(self.w, x)] + [self.b])\n",
        "        out = act.tanh()\n",
        "        return out\n",
        "\n",
        "    def parameters(self):\n",
        "        return self.w + [self.b]\n",
        "\n",
        "\n",
        "class Layer:\n",
        "    def __init__(self, nin, nout):\n",
        "        self.neurons = [Neuron(nin) for _ in range(nout)]\n",
        "\n",
        "    def __call__(self, x):\n",
        "        outs = [n(x) for n in self.neurons]\n",
        "        return outs[0] if len(outs) == 1 else outs\n",
        "\n",
        "    def parameters(self):\n",
        "        return [p for neuron in self.neurons for p in neuron.parameters()]\n",
        "\n",
        "\n",
        "class MLP:\n",
        "    def __init__(self, nin, nouts):\n",
        "        sz = [nin] + nouts\n",
        "        self.layers = [Layer(sz[i], sz[i + 1]) for i in range(len(nouts))]\n",
        "\n",
        "    def __call__(self, x):\n",
        "        for ell in self.layers:\n",
        "            x = ell(x)\n",
        "        return x\n",
        "\n",
        "    def parameters(self):\n",
        "        return [p for layer in self.layers for p in layer.parameters()]"
      ]
    },
    {
      "cell_type": "code",
      "execution_count": 33,
      "id": "7caa027a-dbed-4fa0-9936-43824c0e062f",
      "metadata": {
        "colab": {
          "base_uri": "https://localhost:8080/"
        },
        "id": "7caa027a-dbed-4fa0-9936-43824c0e062f",
        "outputId": "90a45f33-8c65-4624-929c-afadb5e75f2d"
      },
      "outputs": [
        {
          "output_type": "execute_result",
          "data": {
            "text/plain": [
              "Value: -0.27869689860265473"
            ]
          },
          "metadata": {},
          "execution_count": 33
        }
      ],
      "source": [
        "nn = MLP(3, [4, 4, 1])\n",
        "\n",
        "xs = [\n",
        "    [2.0, 3.0, -1.0],\n",
        "    [3.0, -1.0, 0.5],\n",
        "    [0.5, 1.0, 1.0],\n",
        "    [1.0, 1.0, -1.0]\n",
        "]\n",
        "ys = [1, -1, -1, 1]\n",
        "out = nn(xs[0])\n",
        "out"
      ]
    },
    {
      "cell_type": "code",
      "execution_count": 37,
      "id": "c2d460d5-1e65-450e-bdfc-d91af4f29291",
      "metadata": {
        "colab": {
          "base_uri": "https://localhost:8080/"
        },
        "id": "c2d460d5-1e65-450e-bdfc-d91af4f29291",
        "outputId": "15797411-addc-4b34-bb11-198f071386e2"
      },
      "outputs": [
        {
          "output_type": "stream",
          "name": "stdout",
          "text": [
            "Value: 0.016176909568533782\n",
            "Value: 0.015272379100718436\n",
            "Value: 0.01446168799742388\n",
            "Value: 0.013731088750223453\n",
            "Value: 0.013069377397087955\n",
            "Value: 0.012467333974141594\n",
            "Value: 0.011917303944539184\n",
            "Value: 0.01141288094391962\n",
            "Value: 0.010948663415591794\n",
            "Value: 0.010520065860838918\n",
            "Value: 0.010123170957767089\n",
            "Value: 0.009754612611061666\n",
            "Value: 0.009411482658295644\n",
            "Value: 0.0090912558460766\n",
            "Value: 0.008791729044119737\n",
            "Value: 0.008510971649114803\n",
            "Value: 0.008247284852426326\n",
            "Value: 0.007999167981202353\n",
            "Value: 0.0077652905233939855\n",
            "Value: 0.007544468750025979\n"
          ]
        }
      ],
      "source": [
        "for epoch in range(20):\n",
        "    ypreds = [nn(x) for x in xs]\n",
        "    loss = sum((yout + (-ygt))**2 for (yout, ygt) in zip(ypreds, ys))\n",
        "\n",
        "    for p in nn.parameters():\n",
        "        p.grad = 0\n",
        "\n",
        "    loss.full_backward()\n",
        "\n",
        "    for p in nn.parameters():\n",
        "        p.data -= 0.1 * p.grad\n",
        "\n",
        "    print(loss)"
      ]
    },
    {
      "cell_type": "code",
      "execution_count": 39,
      "id": "803522be-3fe8-4526-bf4f-44b4bfe2ec56",
      "metadata": {
        "colab": {
          "base_uri": "https://localhost:8080/"
        },
        "id": "803522be-3fe8-4526-bf4f-44b4bfe2ec56",
        "outputId": "ff7259b7-adb1-4ece-fc6d-f8342f41fa9a"
      },
      "outputs": [
        {
          "output_type": "execute_result",
          "data": {
            "text/plain": [
              "Value: 0.999804243833885"
            ]
          },
          "metadata": {},
          "execution_count": 39
        }
      ],
      "source": [
        "n = Neuron(3)\n",
        "out = n([1, 2, 3])\n",
        "out"
      ]
    },
    {
      "cell_type": "code",
      "execution_count": 38,
      "id": "b0312703-ec85-4c18-a7c7-901cd0c18750",
      "metadata": {
        "colab": {
          "base_uri": "https://localhost:8080/",
          "height": 395
        },
        "id": "b0312703-ec85-4c18-a7c7-901cd0c18750",
        "outputId": "e9ad2421-0bc2-4955-e55e-175cf65c6bbe"
      },
      "outputs": [
        {
          "output_type": "execute_result",
          "data": {
            "image/svg+xml": "<?xml version=\"1.0\" encoding=\"UTF-8\" standalone=\"no\"?>\n<!DOCTYPE svg PUBLIC \"-//W3C//DTD SVG 1.1//EN\"\n \"http://www.w3.org/Graphics/SVG/1.1/DTD/svg11.dtd\">\n<!-- Generated by graphviz version 2.43.0 (0)\n -->\n<!-- Title: %3 Pages: 1 -->\n<svg width=\"2068pt\" height=\"265pt\"\n viewBox=\"0.00 0.00 2068.00 265.00\" xmlns=\"http://www.w3.org/2000/svg\" xmlns:xlink=\"http://www.w3.org/1999/xlink\">\n<g id=\"graph0\" class=\"graph\" transform=\"scale(1 1) rotate(0) translate(4 261)\">\n<title>%3</title>\n<polygon fill=\"white\" stroke=\"transparent\" points=\"-4,4 -4,-261 2064,-261 2064,4 -4,4\"/>\n<!-- 139449068528128 -->\n<g id=\"node1\" class=\"node\">\n<title>139449068528128</title>\n<polygon fill=\"none\" stroke=\"black\" points=\"308,-220.5 308,-256.5 495,-256.5 495,-220.5 308,-220.5\"/>\n<text text-anchor=\"middle\" x=\"318\" y=\"-234.8\" font-family=\"Times,serif\" font-size=\"14.00\"> </text>\n<polyline fill=\"none\" stroke=\"black\" points=\"328,-220.5 328,-256.5 \"/>\n<text text-anchor=\"middle\" x=\"370.5\" y=\"-234.8\" font-family=\"Times,serif\" font-size=\"14.00\">data &#45;0.7055</text>\n<polyline fill=\"none\" stroke=\"black\" points=\"413,-220.5 413,-256.5 \"/>\n<text text-anchor=\"middle\" x=\"454\" y=\"-234.8\" font-family=\"Times,serif\" font-size=\"14.00\">grad 0.0000</text>\n</g>\n<!-- 139449068520640* -->\n<g id=\"node15\" class=\"node\">\n<title>139449068520640*</title>\n<ellipse fill=\"none\" stroke=\"black\" cx=\"558\" cy=\"-183.5\" rx=\"27\" ry=\"18\"/>\n<text text-anchor=\"middle\" x=\"558\" y=\"-179.8\" font-family=\"Times,serif\" font-size=\"14.00\">*</text>\n</g>\n<!-- 139449068528128&#45;&gt;139449068520640* -->\n<g id=\"edge9\" class=\"edge\">\n<title>139449068528128&#45;&gt;139449068520640*</title>\n<path fill=\"none\" stroke=\"black\" d=\"M468.56,-220.45C477.51,-217.64 486.53,-214.63 495,-211.5 505.49,-207.62 516.71,-202.78 526.68,-198.22\"/>\n<polygon fill=\"black\" stroke=\"black\" points=\"528.2,-201.37 535.79,-193.97 525.25,-195.02 528.2,-201.37\"/>\n</g>\n<!-- 139449270353824 -->\n<g id=\"node2\" class=\"node\">\n<title>139449270353824</title>\n<polygon fill=\"none\" stroke=\"black\" points=\"1560,-54.5 1560,-90.5 1747,-90.5 1747,-54.5 1560,-54.5\"/>\n<text text-anchor=\"middle\" x=\"1570\" y=\"-68.8\" font-family=\"Times,serif\" font-size=\"14.00\"> </text>\n<polyline fill=\"none\" stroke=\"black\" points=\"1580,-54.5 1580,-90.5 \"/>\n<text text-anchor=\"middle\" x=\"1622.5\" y=\"-68.8\" font-family=\"Times,serif\" font-size=\"14.00\">data &#45;1.2281</text>\n<polyline fill=\"none\" stroke=\"black\" points=\"1665,-54.5 1665,-90.5 \"/>\n<text text-anchor=\"middle\" x=\"1706\" y=\"-68.8\" font-family=\"Times,serif\" font-size=\"14.00\">grad 0.0000</text>\n</g>\n<!-- 139449270353056tanh -->\n<g id=\"node11\" class=\"node\">\n<title>139449270353056tanh</title>\n<ellipse fill=\"none\" stroke=\"black\" cx=\"1810\" cy=\"-72.5\" rx=\"27\" ry=\"18\"/>\n<text text-anchor=\"middle\" x=\"1810\" y=\"-68.8\" font-family=\"Times,serif\" font-size=\"14.00\">tanh</text>\n</g>\n<!-- 139449270353824&#45;&gt;139449270353056tanh -->\n<g id=\"edge19\" class=\"edge\">\n<title>139449270353824&#45;&gt;139449270353056tanh</title>\n<path fill=\"none\" stroke=\"black\" d=\"M1747.05,-72.5C1756.06,-72.5 1764.79,-72.5 1772.7,-72.5\"/>\n<polygon fill=\"black\" stroke=\"black\" points=\"1772.95,-76 1782.95,-72.5 1772.95,-69 1772.95,-76\"/>\n</g>\n<!-- 139449270353824+ -->\n<g id=\"node3\" class=\"node\">\n<title>139449270353824+</title>\n<ellipse fill=\"none\" stroke=\"black\" cx=\"1497\" cy=\"-72.5\" rx=\"27\" ry=\"18\"/>\n<text text-anchor=\"middle\" x=\"1497\" y=\"-68.8\" font-family=\"Times,serif\" font-size=\"14.00\">+</text>\n</g>\n<!-- 139449270353824+&#45;&gt;139449270353824 -->\n<g id=\"edge1\" class=\"edge\">\n<title>139449270353824+&#45;&gt;139449270353824</title>\n<path fill=\"none\" stroke=\"black\" d=\"M1524.21,-72.5C1531.73,-72.5 1540.43,-72.5 1549.67,-72.5\"/>\n<polygon fill=\"black\" stroke=\"black\" points=\"1549.89,-76 1559.89,-72.5 1549.89,-69 1549.89,-76\"/>\n</g>\n<!-- 139449068532784 -->\n<g id=\"node4\" class=\"node\">\n<title>139449068532784</title>\n<polygon fill=\"none\" stroke=\"black\" points=\"310.5,-110.5 310.5,-146.5 492.5,-146.5 492.5,-110.5 310.5,-110.5\"/>\n<text text-anchor=\"middle\" x=\"320.5\" y=\"-124.8\" font-family=\"Times,serif\" font-size=\"14.00\"> </text>\n<polyline fill=\"none\" stroke=\"black\" points=\"330.5,-110.5 330.5,-146.5 \"/>\n<text text-anchor=\"middle\" x=\"370.5\" y=\"-124.8\" font-family=\"Times,serif\" font-size=\"14.00\">data 0.2503</text>\n<polyline fill=\"none\" stroke=\"black\" points=\"410.5,-110.5 410.5,-146.5 \"/>\n<text text-anchor=\"middle\" x=\"451.5\" y=\"-124.8\" font-family=\"Times,serif\" font-size=\"14.00\">grad 0.0000</text>\n</g>\n<!-- 139449068527408+ -->\n<g id=\"node18\" class=\"node\">\n<title>139449068527408+</title>\n<ellipse fill=\"none\" stroke=\"black\" cx=\"558\" cy=\"-128.5\" rx=\"27\" ry=\"18\"/>\n<text text-anchor=\"middle\" x=\"558\" y=\"-124.8\" font-family=\"Times,serif\" font-size=\"14.00\">+</text>\n</g>\n<!-- 139449068532784&#45;&gt;139449068527408+ -->\n<g id=\"edge17\" class=\"edge\">\n<title>139449068532784&#45;&gt;139449068527408+</title>\n<path fill=\"none\" stroke=\"black\" d=\"M492.82,-128.5C502.57,-128.5 512.04,-128.5 520.57,-128.5\"/>\n<polygon fill=\"black\" stroke=\"black\" points=\"520.83,-132 530.83,-128.5 520.83,-125 520.83,-132\"/>\n</g>\n<!-- 139449068532784* -->\n<g id=\"node5\" class=\"node\">\n<title>139449068532784*</title>\n<ellipse fill=\"none\" stroke=\"black\" cx=\"245\" cy=\"-128.5\" rx=\"27\" ry=\"18\"/>\n<text text-anchor=\"middle\" x=\"245\" y=\"-124.8\" font-family=\"Times,serif\" font-size=\"14.00\">*</text>\n</g>\n<!-- 139449068532784*&#45;&gt;139449068532784 -->\n<g id=\"edge2\" class=\"edge\">\n<title>139449068532784*&#45;&gt;139449068532784</title>\n<path fill=\"none\" stroke=\"black\" d=\"M272.21,-128.5C280.34,-128.5 289.85,-128.5 299.94,-128.5\"/>\n<polygon fill=\"black\" stroke=\"black\" points=\"300.19,-132 310.19,-128.5 300.19,-125 300.19,-132\"/>\n</g>\n<!-- 139449270353488 -->\n<g id=\"node6\" class=\"node\">\n<title>139449270353488</title>\n<polygon fill=\"none\" stroke=\"black\" points=\"1247,-82.5 1247,-118.5 1434,-118.5 1434,-82.5 1247,-82.5\"/>\n<text text-anchor=\"middle\" x=\"1257\" y=\"-96.8\" font-family=\"Times,serif\" font-size=\"14.00\"> </text>\n<polyline fill=\"none\" stroke=\"black\" points=\"1267,-82.5 1267,-118.5 \"/>\n<text text-anchor=\"middle\" x=\"1309.5\" y=\"-96.8\" font-family=\"Times,serif\" font-size=\"14.00\">data &#45;0.3034</text>\n<polyline fill=\"none\" stroke=\"black\" points=\"1352,-82.5 1352,-118.5 \"/>\n<text text-anchor=\"middle\" x=\"1393\" y=\"-96.8\" font-family=\"Times,serif\" font-size=\"14.00\">grad 0.0000</text>\n</g>\n<!-- 139449270353488&#45;&gt;139449270353824+ -->\n<g id=\"edge14\" class=\"edge\">\n<title>139449270353488&#45;&gt;139449270353824+</title>\n<path fill=\"none\" stroke=\"black\" d=\"M1434.05,-83.73C1443.54,-82.01 1452.71,-80.35 1460.95,-78.85\"/>\n<polygon fill=\"black\" stroke=\"black\" points=\"1461.64,-82.28 1470.85,-77.06 1460.39,-75.4 1461.64,-82.28\"/>\n</g>\n<!-- 139449270353488+ -->\n<g id=\"node7\" class=\"node\">\n<title>139449270353488+</title>\n<ellipse fill=\"none\" stroke=\"black\" cx=\"1184\" cy=\"-100.5\" rx=\"27\" ry=\"18\"/>\n<text text-anchor=\"middle\" x=\"1184\" y=\"-96.8\" font-family=\"Times,serif\" font-size=\"14.00\">+</text>\n</g>\n<!-- 139449270353488+&#45;&gt;139449270353488 -->\n<g id=\"edge3\" class=\"edge\">\n<title>139449270353488+&#45;&gt;139449270353488</title>\n<path fill=\"none\" stroke=\"black\" d=\"M1211.21,-100.5C1218.73,-100.5 1227.43,-100.5 1236.67,-100.5\"/>\n<polygon fill=\"black\" stroke=\"black\" points=\"1236.89,-104 1246.89,-100.5 1236.89,-97 1236.89,-104\"/>\n</g>\n<!-- 139449068530768 -->\n<g id=\"node8\" class=\"node\">\n<title>139449068530768</title>\n<polygon fill=\"none\" stroke=\"black\" points=\"0,-138.5 0,-174.5 182,-174.5 182,-138.5 0,-138.5\"/>\n<text text-anchor=\"middle\" x=\"10\" y=\"-152.8\" font-family=\"Times,serif\" font-size=\"14.00\"> </text>\n<polyline fill=\"none\" stroke=\"black\" points=\"20,-138.5 20,-174.5 \"/>\n<text text-anchor=\"middle\" x=\"60\" y=\"-152.8\" font-family=\"Times,serif\" font-size=\"14.00\">data 1.0000</text>\n<polyline fill=\"none\" stroke=\"black\" points=\"100,-138.5 100,-174.5 \"/>\n<text text-anchor=\"middle\" x=\"141\" y=\"-152.8\" font-family=\"Times,serif\" font-size=\"14.00\">grad 0.0000</text>\n</g>\n<!-- 139449068530768&#45;&gt;139449068532784* -->\n<g id=\"edge20\" class=\"edge\">\n<title>139449068530768&#45;&gt;139449068532784*</title>\n<path fill=\"none\" stroke=\"black\" d=\"M182.18,-139.89C191.61,-138.15 200.75,-136.47 208.98,-134.95\"/>\n<polygon fill=\"black\" stroke=\"black\" points=\"209.66,-138.39 218.86,-133.13 208.39,-131.5 209.66,-138.39\"/>\n</g>\n<!-- 139449068532832 -->\n<g id=\"node9\" class=\"node\">\n<title>139449068532832</title>\n<polygon fill=\"none\" stroke=\"black\" points=\"310.5,-165.5 310.5,-201.5 492.5,-201.5 492.5,-165.5 310.5,-165.5\"/>\n<text text-anchor=\"middle\" x=\"320.5\" y=\"-179.8\" font-family=\"Times,serif\" font-size=\"14.00\"> </text>\n<polyline fill=\"none\" stroke=\"black\" points=\"330.5,-165.5 330.5,-201.5 \"/>\n<text text-anchor=\"middle\" x=\"370.5\" y=\"-179.8\" font-family=\"Times,serif\" font-size=\"14.00\">data 2.0000</text>\n<polyline fill=\"none\" stroke=\"black\" points=\"410.5,-165.5 410.5,-201.5 \"/>\n<text text-anchor=\"middle\" x=\"451.5\" y=\"-179.8\" font-family=\"Times,serif\" font-size=\"14.00\">grad 0.0000</text>\n</g>\n<!-- 139449068532832&#45;&gt;139449068520640* -->\n<g id=\"edge21\" class=\"edge\">\n<title>139449068532832&#45;&gt;139449068520640*</title>\n<path fill=\"none\" stroke=\"black\" d=\"M492.82,-183.5C502.57,-183.5 512.04,-183.5 520.57,-183.5\"/>\n<polygon fill=\"black\" stroke=\"black\" points=\"520.83,-187 530.83,-183.5 520.83,-180 520.83,-187\"/>\n</g>\n<!-- 139449270353056 -->\n<g id=\"node10\" class=\"node\">\n<title>139449270353056</title>\n<polygon fill=\"none\" stroke=\"black\" points=\"1873,-54.5 1873,-90.5 2060,-90.5 2060,-54.5 1873,-54.5\"/>\n<text text-anchor=\"middle\" x=\"1883\" y=\"-68.8\" font-family=\"Times,serif\" font-size=\"14.00\"> </text>\n<polyline fill=\"none\" stroke=\"black\" points=\"1893,-54.5 1893,-90.5 \"/>\n<text text-anchor=\"middle\" x=\"1935.5\" y=\"-68.8\" font-family=\"Times,serif\" font-size=\"14.00\">data &#45;0.8420</text>\n<polyline fill=\"none\" stroke=\"black\" points=\"1978,-54.5 1978,-90.5 \"/>\n<text text-anchor=\"middle\" x=\"2019\" y=\"-68.8\" font-family=\"Times,serif\" font-size=\"14.00\">grad 0.0000</text>\n</g>\n<!-- 139449270353056tanh&#45;&gt;139449270353056 -->\n<g id=\"edge4\" class=\"edge\">\n<title>139449270353056tanh&#45;&gt;139449270353056</title>\n<path fill=\"none\" stroke=\"black\" d=\"M1837.21,-72.5C1844.73,-72.5 1853.43,-72.5 1862.67,-72.5\"/>\n<polygon fill=\"black\" stroke=\"black\" points=\"1862.89,-76 1872.89,-72.5 1862.89,-69 1862.89,-76\"/>\n</g>\n<!-- 139449068525728 -->\n<g id=\"node12\" class=\"node\">\n<title>139449068525728</title>\n<polygon fill=\"none\" stroke=\"black\" points=\"0,-83.5 0,-119.5 182,-119.5 182,-83.5 0,-83.5\"/>\n<text text-anchor=\"middle\" x=\"10\" y=\"-97.8\" font-family=\"Times,serif\" font-size=\"14.00\"> </text>\n<polyline fill=\"none\" stroke=\"black\" points=\"20,-83.5 20,-119.5 \"/>\n<text text-anchor=\"middle\" x=\"60\" y=\"-97.8\" font-family=\"Times,serif\" font-size=\"14.00\">data 0.2503</text>\n<polyline fill=\"none\" stroke=\"black\" points=\"100,-83.5 100,-119.5 \"/>\n<text text-anchor=\"middle\" x=\"141\" y=\"-97.8\" font-family=\"Times,serif\" font-size=\"14.00\">grad 0.0000</text>\n</g>\n<!-- 139449068525728&#45;&gt;139449068532784* -->\n<g id=\"edge15\" class=\"edge\">\n<title>139449068525728&#45;&gt;139449068532784*</title>\n<path fill=\"none\" stroke=\"black\" d=\"M182.18,-117.52C191.42,-119.16 200.38,-120.75 208.47,-122.19\"/>\n<polygon fill=\"black\" stroke=\"black\" points=\"208.1,-125.68 218.56,-123.98 209.32,-118.79 208.1,-125.68\"/>\n</g>\n<!-- 139449068523184 -->\n<g id=\"node13\" class=\"node\">\n<title>139449068523184</title>\n<polygon fill=\"none\" stroke=\"black\" points=\"310.5,-55.5 310.5,-91.5 492.5,-91.5 492.5,-55.5 310.5,-55.5\"/>\n<text text-anchor=\"middle\" x=\"320.5\" y=\"-69.8\" font-family=\"Times,serif\" font-size=\"14.00\"> </text>\n<polyline fill=\"none\" stroke=\"black\" points=\"330.5,-55.5 330.5,-91.5 \"/>\n<text text-anchor=\"middle\" x=\"370.5\" y=\"-69.8\" font-family=\"Times,serif\" font-size=\"14.00\">data 0.0000</text>\n<polyline fill=\"none\" stroke=\"black\" points=\"410.5,-55.5 410.5,-91.5 \"/>\n<text text-anchor=\"middle\" x=\"451.5\" y=\"-69.8\" font-family=\"Times,serif\" font-size=\"14.00\">grad 0.0000</text>\n</g>\n<!-- 139449068523184&#45;&gt;139449068527408+ -->\n<g id=\"edge16\" class=\"edge\">\n<title>139449068523184&#45;&gt;139449068527408+</title>\n<path fill=\"none\" stroke=\"black\" d=\"M468.56,-91.55C477.51,-94.36 486.53,-97.37 495,-100.5 505.49,-104.38 516.71,-109.22 526.68,-113.78\"/>\n<polygon fill=\"black\" stroke=\"black\" points=\"525.25,-116.98 535.79,-118.03 528.2,-110.63 525.25,-116.98\"/>\n</g>\n<!-- 139449068520640 -->\n<g id=\"node14\" class=\"node\">\n<title>139449068520640</title>\n<polygon fill=\"none\" stroke=\"black\" points=\"621,-165.5 621,-201.5 808,-201.5 808,-165.5 621,-165.5\"/>\n<text text-anchor=\"middle\" x=\"631\" y=\"-179.8\" font-family=\"Times,serif\" font-size=\"14.00\"> </text>\n<polyline fill=\"none\" stroke=\"black\" points=\"641,-165.5 641,-201.5 \"/>\n<text text-anchor=\"middle\" x=\"683.5\" y=\"-179.8\" font-family=\"Times,serif\" font-size=\"14.00\">data &#45;1.4110</text>\n<polyline fill=\"none\" stroke=\"black\" points=\"726,-165.5 726,-201.5 \"/>\n<text text-anchor=\"middle\" x=\"767\" y=\"-179.8\" font-family=\"Times,serif\" font-size=\"14.00\">grad 0.0000</text>\n</g>\n<!-- 139449270353776+ -->\n<g id=\"node20\" class=\"node\">\n<title>139449270353776+</title>\n<ellipse fill=\"none\" stroke=\"black\" cx=\"871\" cy=\"-128.5\" rx=\"27\" ry=\"18\"/>\n<text text-anchor=\"middle\" x=\"871\" y=\"-124.8\" font-family=\"Times,serif\" font-size=\"14.00\">+</text>\n</g>\n<!-- 139449068520640&#45;&gt;139449270353776+ -->\n<g id=\"edge23\" class=\"edge\">\n<title>139449068520640&#45;&gt;139449270353776+</title>\n<path fill=\"none\" stroke=\"black\" d=\"M779.02,-165.35C788.79,-162.24 798.71,-158.92 808,-155.5 818.25,-151.73 829.23,-147.14 839.07,-142.82\"/>\n<polygon fill=\"black\" stroke=\"black\" points=\"840.74,-145.9 848.45,-138.63 837.89,-139.51 840.74,-145.9\"/>\n</g>\n<!-- 139449068520640*&#45;&gt;139449068520640 -->\n<g id=\"edge5\" class=\"edge\">\n<title>139449068520640*&#45;&gt;139449068520640</title>\n<path fill=\"none\" stroke=\"black\" d=\"M585.21,-183.5C592.73,-183.5 601.43,-183.5 610.67,-183.5\"/>\n<polygon fill=\"black\" stroke=\"black\" points=\"610.89,-187 620.89,-183.5 610.89,-180 610.89,-187\"/>\n</g>\n<!-- 139449068523280 -->\n<g id=\"node16\" class=\"node\">\n<title>139449068523280</title>\n<polygon fill=\"none\" stroke=\"black\" points=\"623.5,-55.5 623.5,-91.5 805.5,-91.5 805.5,-55.5 623.5,-55.5\"/>\n<text text-anchor=\"middle\" x=\"633.5\" y=\"-69.8\" font-family=\"Times,serif\" font-size=\"14.00\"> </text>\n<polyline fill=\"none\" stroke=\"black\" points=\"643.5,-55.5 643.5,-91.5 \"/>\n<text text-anchor=\"middle\" x=\"683.5\" y=\"-69.8\" font-family=\"Times,serif\" font-size=\"14.00\">data 0.2858</text>\n<polyline fill=\"none\" stroke=\"black\" points=\"723.5,-55.5 723.5,-91.5 \"/>\n<text text-anchor=\"middle\" x=\"764.5\" y=\"-69.8\" font-family=\"Times,serif\" font-size=\"14.00\">grad 0.0000</text>\n</g>\n<!-- 139449068521456* -->\n<g id=\"node24\" class=\"node\">\n<title>139449068521456*</title>\n<ellipse fill=\"none\" stroke=\"black\" cx=\"871\" cy=\"-73.5\" rx=\"27\" ry=\"18\"/>\n<text text-anchor=\"middle\" x=\"871\" y=\"-69.8\" font-family=\"Times,serif\" font-size=\"14.00\">*</text>\n</g>\n<!-- 139449068523280&#45;&gt;139449068521456* -->\n<g id=\"edge10\" class=\"edge\">\n<title>139449068523280&#45;&gt;139449068521456*</title>\n<path fill=\"none\" stroke=\"black\" d=\"M805.82,-73.5C815.57,-73.5 825.04,-73.5 833.57,-73.5\"/>\n<polygon fill=\"black\" stroke=\"black\" points=\"833.83,-77 843.83,-73.5 833.83,-70 833.83,-77\"/>\n</g>\n<!-- 139449068527408 -->\n<g id=\"node17\" class=\"node\">\n<title>139449068527408</title>\n<polygon fill=\"none\" stroke=\"black\" points=\"623.5,-110.5 623.5,-146.5 805.5,-146.5 805.5,-110.5 623.5,-110.5\"/>\n<text text-anchor=\"middle\" x=\"633.5\" y=\"-124.8\" font-family=\"Times,serif\" font-size=\"14.00\"> </text>\n<polyline fill=\"none\" stroke=\"black\" points=\"643.5,-110.5 643.5,-146.5 \"/>\n<text text-anchor=\"middle\" x=\"683.5\" y=\"-124.8\" font-family=\"Times,serif\" font-size=\"14.00\">data 0.2503</text>\n<polyline fill=\"none\" stroke=\"black\" points=\"723.5,-110.5 723.5,-146.5 \"/>\n<text text-anchor=\"middle\" x=\"764.5\" y=\"-124.8\" font-family=\"Times,serif\" font-size=\"14.00\">grad 0.0000</text>\n</g>\n<!-- 139449068527408&#45;&gt;139449270353776+ -->\n<g id=\"edge22\" class=\"edge\">\n<title>139449068527408&#45;&gt;139449270353776+</title>\n<path fill=\"none\" stroke=\"black\" d=\"M805.82,-128.5C815.57,-128.5 825.04,-128.5 833.57,-128.5\"/>\n<polygon fill=\"black\" stroke=\"black\" points=\"833.83,-132 843.83,-128.5 833.83,-125 833.83,-132\"/>\n</g>\n<!-- 139449068527408+&#45;&gt;139449068527408 -->\n<g id=\"edge6\" class=\"edge\">\n<title>139449068527408+&#45;&gt;139449068527408</title>\n<path fill=\"none\" stroke=\"black\" d=\"M585.21,-128.5C593.34,-128.5 602.85,-128.5 612.94,-128.5\"/>\n<polygon fill=\"black\" stroke=\"black\" points=\"613.19,-132 623.19,-128.5 613.19,-125 613.19,-132\"/>\n</g>\n<!-- 139449270353776 -->\n<g id=\"node19\" class=\"node\">\n<title>139449270353776</title>\n<polygon fill=\"none\" stroke=\"black\" points=\"934,-110.5 934,-146.5 1121,-146.5 1121,-110.5 934,-110.5\"/>\n<text text-anchor=\"middle\" x=\"944\" y=\"-124.8\" font-family=\"Times,serif\" font-size=\"14.00\"> </text>\n<polyline fill=\"none\" stroke=\"black\" points=\"954,-110.5 954,-146.5 \"/>\n<text text-anchor=\"middle\" x=\"996.5\" y=\"-124.8\" font-family=\"Times,serif\" font-size=\"14.00\">data &#45;1.1607</text>\n<polyline fill=\"none\" stroke=\"black\" points=\"1039,-110.5 1039,-146.5 \"/>\n<text text-anchor=\"middle\" x=\"1080\" y=\"-124.8\" font-family=\"Times,serif\" font-size=\"14.00\">grad 0.0000</text>\n</g>\n<!-- 139449270353776&#45;&gt;139449270353488+ -->\n<g id=\"edge12\" class=\"edge\">\n<title>139449270353776&#45;&gt;139449270353488+</title>\n<path fill=\"none\" stroke=\"black\" d=\"M1121.05,-111.73C1130.54,-110.01 1139.71,-108.35 1147.95,-106.85\"/>\n<polygon fill=\"black\" stroke=\"black\" points=\"1148.64,-110.28 1157.85,-105.06 1147.39,-103.4 1148.64,-110.28\"/>\n</g>\n<!-- 139449270353776+&#45;&gt;139449270353776 -->\n<g id=\"edge7\" class=\"edge\">\n<title>139449270353776+&#45;&gt;139449270353776</title>\n<path fill=\"none\" stroke=\"black\" d=\"M898.21,-128.5C905.73,-128.5 914.43,-128.5 923.67,-128.5\"/>\n<polygon fill=\"black\" stroke=\"black\" points=\"923.89,-132 933.89,-128.5 923.89,-125 923.89,-132\"/>\n</g>\n<!-- 139449068528032 -->\n<g id=\"node21\" class=\"node\">\n<title>139449068528032</title>\n<polygon fill=\"none\" stroke=\"black\" points=\"1247,-27.5 1247,-63.5 1434,-63.5 1434,-27.5 1247,-27.5\"/>\n<text text-anchor=\"middle\" x=\"1257\" y=\"-41.8\" font-family=\"Times,serif\" font-size=\"14.00\"> </text>\n<polyline fill=\"none\" stroke=\"black\" points=\"1267,-27.5 1267,-63.5 \"/>\n<text text-anchor=\"middle\" x=\"1309.5\" y=\"-41.8\" font-family=\"Times,serif\" font-size=\"14.00\">data &#45;0.9247</text>\n<polyline fill=\"none\" stroke=\"black\" points=\"1352,-27.5 1352,-63.5 \"/>\n<text text-anchor=\"middle\" x=\"1393\" y=\"-41.8\" font-family=\"Times,serif\" font-size=\"14.00\">grad 0.0000</text>\n</g>\n<!-- 139449068528032&#45;&gt;139449270353824+ -->\n<g id=\"edge11\" class=\"edge\">\n<title>139449068528032&#45;&gt;139449270353824+</title>\n<path fill=\"none\" stroke=\"black\" d=\"M1434.05,-61.67C1443.34,-63.3 1452.33,-64.87 1460.44,-66.29\"/>\n<polygon fill=\"black\" stroke=\"black\" points=\"1460.1,-69.78 1470.55,-68.05 1461.3,-62.88 1460.1,-69.78\"/>\n</g>\n<!-- 139449068534224 -->\n<g id=\"node22\" class=\"node\">\n<title>139449068534224</title>\n<polygon fill=\"none\" stroke=\"black\" points=\"623.5,-0.5 623.5,-36.5 805.5,-36.5 805.5,-0.5 623.5,-0.5\"/>\n<text text-anchor=\"middle\" x=\"633.5\" y=\"-14.8\" font-family=\"Times,serif\" font-size=\"14.00\"> </text>\n<polyline fill=\"none\" stroke=\"black\" points=\"643.5,-0.5 643.5,-36.5 \"/>\n<text text-anchor=\"middle\" x=\"683.5\" y=\"-14.8\" font-family=\"Times,serif\" font-size=\"14.00\">data 3.0000</text>\n<polyline fill=\"none\" stroke=\"black\" points=\"723.5,-0.5 723.5,-36.5 \"/>\n<text text-anchor=\"middle\" x=\"764.5\" y=\"-14.8\" font-family=\"Times,serif\" font-size=\"14.00\">grad 0.0000</text>\n</g>\n<!-- 139449068534224&#45;&gt;139449068521456* -->\n<g id=\"edge13\" class=\"edge\">\n<title>139449068534224&#45;&gt;139449068521456*</title>\n<path fill=\"none\" stroke=\"black\" d=\"M781.56,-36.55C790.51,-39.36 799.53,-42.37 808,-45.5 818.49,-49.38 829.71,-54.22 839.68,-58.78\"/>\n<polygon fill=\"black\" stroke=\"black\" points=\"838.25,-61.98 848.79,-63.03 841.2,-55.63 838.25,-61.98\"/>\n</g>\n<!-- 139449068521456 -->\n<g id=\"node23\" class=\"node\">\n<title>139449068521456</title>\n<polygon fill=\"none\" stroke=\"black\" points=\"936.5,-55.5 936.5,-91.5 1118.5,-91.5 1118.5,-55.5 936.5,-55.5\"/>\n<text text-anchor=\"middle\" x=\"946.5\" y=\"-69.8\" font-family=\"Times,serif\" font-size=\"14.00\"> </text>\n<polyline fill=\"none\" stroke=\"black\" points=\"956.5,-55.5 956.5,-91.5 \"/>\n<text text-anchor=\"middle\" x=\"996.5\" y=\"-69.8\" font-family=\"Times,serif\" font-size=\"14.00\">data 0.8573</text>\n<polyline fill=\"none\" stroke=\"black\" points=\"1036.5,-55.5 1036.5,-91.5 \"/>\n<text text-anchor=\"middle\" x=\"1077.5\" y=\"-69.8\" font-family=\"Times,serif\" font-size=\"14.00\">grad 0.0000</text>\n</g>\n<!-- 139449068521456&#45;&gt;139449270353488+ -->\n<g id=\"edge18\" class=\"edge\">\n<title>139449068521456&#45;&gt;139449270353488+</title>\n<path fill=\"none\" stroke=\"black\" d=\"M1118.82,-89.28C1129.07,-91.08 1139.01,-92.81 1147.88,-94.36\"/>\n<polygon fill=\"black\" stroke=\"black\" points=\"1147.3,-97.81 1157.75,-96.09 1148.5,-90.92 1147.3,-97.81\"/>\n</g>\n<!-- 139449068521456*&#45;&gt;139449068521456 -->\n<g id=\"edge8\" class=\"edge\">\n<title>139449068521456*&#45;&gt;139449068521456</title>\n<path fill=\"none\" stroke=\"black\" d=\"M898.21,-73.5C906.34,-73.5 915.85,-73.5 925.94,-73.5\"/>\n<polygon fill=\"black\" stroke=\"black\" points=\"926.19,-77 936.19,-73.5 926.19,-70 926.19,-77\"/>\n</g>\n</g>\n</svg>\n",
            "text/plain": [
              "<graphviz.graphs.Digraph at 0x7ed404487550>"
            ]
          },
          "metadata": {},
          "execution_count": 38
        }
      ],
      "source": [
        "draw_dot(out)"
      ]
    }
  ],
  "metadata": {
    "kernelspec": {
      "display_name": "Python 3 (ipykernel)",
      "language": "python",
      "name": "python3"
    },
    "language_info": {
      "codemirror_mode": {
        "name": "ipython",
        "version": 3
      },
      "file_extension": ".py",
      "mimetype": "text/x-python",
      "name": "python",
      "nbconvert_exporter": "python",
      "pygments_lexer": "ipython3",
      "version": "3.12.5"
    },
    "colab": {
      "provenance": []
    }
  },
  "nbformat": 4,
  "nbformat_minor": 5
}